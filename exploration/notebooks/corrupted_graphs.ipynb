{
 "cells": [
  {
   "cell_type": "code",
   "execution_count": 2,
   "id": "088f4f5d",
   "metadata": {},
   "outputs": [],
   "source": [
    "import config as cg_config\n",
    "import os\n",
    "import json\n",
    "import pickle\n",
    "import random\n",
    "import networkx as nx\n",
    "import pandas as pd\n",
    "import stellargraph as sg\n",
    "from tqdm import tqdm\n",
    "from stellargraph import StellarGraph"
   ]
  },
  {
   "cell_type": "markdown",
   "id": "920ea85f",
   "metadata": {},
   "source": [
    "# Corrupted graphs "
   ]
  },
  {
   "cell_type": "code",
   "execution_count": 3,
   "id": "387786ed",
   "metadata": {},
   "outputs": [],
   "source": [
    "def prepare_samples(num_per_label):\n",
    "\n",
    "    file_pairs = []\n",
    "    numbers = [\"0\" + str(i) for i in range(10)] + \\\n",
    "              [str(i) for i in range(10, num_per_label)]\n",
    "    labels = [\"pos\", \"neg\"]\n",
    "\n",
    "    for num in numbers:\n",
    "        for l in labels:\n",
    "            file_graph = \"pair_graph_sample_\" + l +\"_\" + num +\"_graph.json\"\n",
    "            file_pred = \"pair_graph_sample_\" + l +\"_\" + num +\"_prediction_edge.json\"\n",
    "            file_pairs.append((file_graph, file_pred, l))\n",
    "    return file_pairs\n",
    "\n",
    "\n",
    "def generate_atom_graph(file_dir, file_graph, file_pred):\n",
    "\n",
    "    file_graph_path = os.path.join(file_dir, file_graph)\n",
    "    file_pred_path = os.path.join(file_dir, file_pred)\n",
    "    with open(file_graph_path, \"r\") as g:\n",
    "        data = json.load(g)\n",
    "    with open(file_pred_path, \"r\") as p:\n",
    "        predicting = json.load(p)\n",
    "    node_pair_to_predict = predicting[\"edge\"]\n",
    "    elements = data.get(\"elements\", {})\n",
    "\n",
    "    nodes = []\n",
    "    pairs = []\n",
    "    for node in elements[\"nodes\"]:\n",
    "        info = node[\"data\"]\n",
    "        nodes.append((info[\"id\"],\n",
    "                      {\"type\": info[\"type\"]}))\n",
    "    for edge in elements[\"edges\"]:\n",
    "        structure = edge[\"data\"]\n",
    "        pairs.append((structure[\"source\"],\n",
    "                      structure[\"target\"],\n",
    "                      {\"type\": structure[\"type\"]}))\n",
    "\n",
    "    atom_graph = nx.DiGraph()\n",
    "    atom_graph.add_nodes_from(nodes)\n",
    "    atom_graph.add_edges_from(pairs)\n",
    "    return atom_graph, node_pair_to_predict"
   ]
  },
  {
   "cell_type": "code",
   "execution_count": 4,
   "id": "f8d2b653",
   "metadata": {},
   "outputs": [
    {
     "name": "stderr",
     "output_type": "stream",
     "text": [
      "processing file pairs:: 100%|███████████████| 1000/1000 [02:43<00:00,  6.13it/s]\n"
     ]
    }
   ],
   "source": [
    "# adjust this number to control the num of graphs generated\n",
    "num_per_label = 500\n",
    "\n",
    "graphs = []\n",
    "empty_graphs = []\n",
    "empty_graphs_pairs = []\n",
    "\n",
    "node_missing_graphs = []\n",
    "node_missing_graphs_pairs = []\n",
    "\n",
    "file_pairs = prepare_samples(num_per_label)\n",
    "directory = \"/opt/contextgraph/samples_all\"\n",
    "\n",
    "for file_pair in tqdm(file_pairs, desc=\"processing file pairs:\"):\n",
    "    file_graph = file_pair[0]\n",
    "    file_pred = file_pair[1]\n",
    "    label = file_pair[2]\n",
    "\n",
    "    graph, node_pair_to_predict = generate_atom_graph(\n",
    "        file_dir=directory,\n",
    "        file_graph=file_graph,\n",
    "        file_pred=file_pred\n",
    "    )\n",
    "    \n",
    "    graphs.append(graph)\n",
    "    # skip the empty graphs\n",
    "    if len(graph.nodes) == 0:\n",
    "        empty_graphs.append(graph)\n",
    "        empty_graphs_pairs.append(file_pair)\n",
    "    # check if target nodes exist in the graph only for non-empty graphs\n",
    "    else:\n",
    "        nodes_dict = dict(graph.nodes())\n",
    "        missing_nodes1 = nodes_dict.get(node_pair_to_predict[0], \"MISSING\")\n",
    "        missing_nodes2 = nodes_dict.get(node_pair_to_predict[0], \"MISSING\")\n",
    "        \n",
    "        if missing_nodes1 == \"MISSING\" or missing_nodes2 == \"MISSING\":\n",
    "            node_missing_graphs.append((graph, node_pair_to_predict))\n",
    "            node_missing_graphs_pairs.append(file_pair)"
   ]
  },
  {
   "cell_type": "markdown",
   "id": "3ec597c8",
   "metadata": {},
   "source": [
    "## 1. emtpy graphs"
   ]
  },
  {
   "cell_type": "markdown",
   "id": "348d4e88",
   "metadata": {},
   "source": [
    "- The samples(files) that lead to empty graphs seem to be the same every time, means that the problem is not in the generating process, but the files themselves. (This holds for node-missing graphs)"
   ]
  },
  {
   "cell_type": "code",
   "execution_count": 5,
   "id": "7b15bb50",
   "metadata": {},
   "outputs": [
    {
     "data": {
      "text/plain": [
       "0.031"
      ]
     },
     "execution_count": 5,
     "metadata": {},
     "output_type": "execute_result"
    }
   ],
   "source": [
    "# emtpy ratio\n",
    "len(empty_graphs)/len(graphs)"
   ]
  },
  {
   "cell_type": "code",
   "execution_count": 6,
   "id": "6aeaa5dd",
   "metadata": {
    "scrolled": false
   },
   "outputs": [
    {
     "ename": "ZeroDivisionError",
     "evalue": "division by zero",
     "output_type": "error",
     "traceback": [
      "\u001b[0;31m---------------------------------------------------------------------------\u001b[0m",
      "\u001b[0;31mZeroDivisionError\u001b[0m                         Traceback (most recent call last)",
      "\u001b[0;32m/tmp/ipykernel_25374/2671638405.py\u001b[0m in \u001b[0;36m<module>\u001b[0;34m\u001b[0m\n\u001b[1;32m      8\u001b[0m \u001b[0;34m\u001b[0m\u001b[0m\n\u001b[1;32m      9\u001b[0m \u001b[0;31m# most empty graphs are negative samples, sometimes even all!\u001b[0m\u001b[0;34m\u001b[0m\u001b[0;34m\u001b[0m\u001b[0;34m\u001b[0m\u001b[0m\n\u001b[0;32m---> 10\u001b[0;31m \u001b[0mcount_neg\u001b[0m \u001b[0;34m/\u001b[0m \u001b[0mcount_pos\u001b[0m\u001b[0;34m\u001b[0m\u001b[0;34m\u001b[0m\u001b[0m\n\u001b[0m",
      "\u001b[0;31mZeroDivisionError\u001b[0m: division by zero"
     ]
    }
   ],
   "source": [
    "count_neg = 0\n",
    "count_pos = 0\n",
    "for i in empty_graphs_pairs:\n",
    "    if i[2] == \"neg\":\n",
    "        count_neg += 1\n",
    "    else:\n",
    "        count_pos += 1\n",
    "        \n",
    "# most empty graphs are negative samples, sometimes even all!\n",
    "count_neg / count_pos"
   ]
  },
  {
   "cell_type": "code",
   "execution_count": 7,
   "id": "c79e9ecd",
   "metadata": {},
   "outputs": [],
   "source": [
    "# take an example of empty graph\n",
    "empty_pair_example = random.choice(empty_graphs_pairs)\n",
    "\n",
    "file_graph = empty_pair_example[0]\n",
    "file_pred = empty_pair_example[1]\n",
    "label = empty_pair_example[2]\n",
    "\n",
    "file_graph_path = os.path.join(directory, file_graph)\n",
    "file_pred_path = os.path.join(directory, file_pred)\n",
    "\n",
    "with open(file_graph_path, \"r\") as g:\n",
    "    data = json.load(g)\n",
    "with open(file_pred_path, \"r\") as p:\n",
    "    predicting = json.load(p)"
   ]
  },
  {
   "cell_type": "code",
   "execution_count": 8,
   "id": "174eb973",
   "metadata": {},
   "outputs": [
    {
     "data": {
      "text/plain": [
       "{'data': [],\n",
       " 'directed': True,\n",
       " 'multigraph': False,\n",
       " 'elements': {'nodes': [], 'edges': []}}"
      ]
     },
     "execution_count": 8,
     "metadata": {},
     "output_type": "execute_result"
    }
   ],
   "source": [
    "# there is no content for the key 'data'\n",
    "data"
   ]
  },
  {
   "cell_type": "code",
   "execution_count": 9,
   "id": "d385b9b2",
   "metadata": {
    "scrolled": true
   },
   "outputs": [
    {
     "data": {
      "text/plain": [
       "{'edge': ['pwc:model/unigan', 'pwc:model/tucker'],\n",
       " 'cooc_pprs': [],\n",
       " 'cooc_start_year': 2019,\n",
       " 'cooc_start_month': 7}"
      ]
     },
     "execution_count": 9,
     "metadata": {},
     "output_type": "execute_result"
    }
   ],
   "source": [
    "predicting"
   ]
  },
  {
   "cell_type": "code",
   "execution_count": 10,
   "id": "e3dbc76e",
   "metadata": {},
   "outputs": [
    {
     "data": {
      "text/plain": [
       "'neg'"
      ]
     },
     "execution_count": 10,
     "metadata": {},
     "output_type": "execute_result"
    }
   ],
   "source": [
    "label"
   ]
  },
  {
   "cell_type": "markdown",
   "id": "59860596",
   "metadata": {},
   "source": [
    "## 2. missing nodes"
   ]
  },
  {
   "cell_type": "code",
   "execution_count": 11,
   "id": "f65ec788",
   "metadata": {},
   "outputs": [
    {
     "data": {
      "text/plain": [
       "0.09"
      ]
     },
     "execution_count": 11,
     "metadata": {},
     "output_type": "execute_result"
    }
   ],
   "source": [
    "# missing ratio (empty graphs excluded)\n",
    "len(node_missing_graphs)/len(graphs)"
   ]
  },
  {
   "cell_type": "code",
   "execution_count": 12,
   "id": "de0374d3",
   "metadata": {},
   "outputs": [
    {
     "data": {
      "text/plain": [
       "0.45161290322580644"
      ]
     },
     "execution_count": 12,
     "metadata": {},
     "output_type": "execute_result"
    }
   ],
   "source": [
    "# neg/pos ratio in node-missing graphs\n",
    "count_neg = 0\n",
    "count_pos = 0\n",
    "for i in node_missing_graphs_pairs:\n",
    "    if i[2] == \"neg\":\n",
    "        count_neg += 1\n",
    "    else:\n",
    "        count_pos += 1\n",
    "        \n",
    "# most empty graphs are positive samples\n",
    "# could also because part of neg samples are empty and \n",
    "# therefore got filtered out\n",
    "count_neg / count_pos"
   ]
  },
  {
   "cell_type": "code",
   "execution_count": 13,
   "id": "1e357ddb",
   "metadata": {},
   "outputs": [],
   "source": [
    "# take an example of empty graph\n",
    "node_missing_example = random.choice(node_missing_graphs)\n",
    "\n",
    "node_missing_graph_example = node_missing_example[0]\n",
    "target_nodes = node_missing_example[1]\n",
    "\n",
    "nodes_dict = dict(node_missing_graph_example.nodes())"
   ]
  },
  {
   "cell_type": "code",
   "execution_count": 14,
   "id": "7cad11f5",
   "metadata": {},
   "outputs": [
    {
     "data": {
      "text/plain": [
       "['pwc:model/mask-r-cnn--vil-base--multi-scale--3x-lr-',\n",
       " 'pwc:task/object-detection']"
      ]
     },
     "execution_count": 14,
     "metadata": {},
     "output_type": "execute_result"
    }
   ],
   "source": [
    "target_nodes"
   ]
  },
  {
   "cell_type": "code",
   "execution_count": 15,
   "id": "e66b1a38",
   "metadata": {
    "scrolled": true
   },
   "outputs": [
    {
     "ename": "KeyError",
     "evalue": "'pwc:model/mask-r-cnn--vil-base--multi-scale--3x-lr-'",
     "output_type": "error",
     "traceback": [
      "\u001b[0;31m---------------------------------------------------------------------------\u001b[0m",
      "\u001b[0;31mKeyError\u001b[0m                                  Traceback (most recent call last)",
      "\u001b[0;32m/tmp/ipykernel_25374/3756366269.py\u001b[0m in \u001b[0;36m<module>\u001b[0;34m\u001b[0m\n\u001b[0;32m----> 1\u001b[0;31m \u001b[0mnodes_dict\u001b[0m\u001b[0;34m[\u001b[0m\u001b[0mtarget_nodes\u001b[0m\u001b[0;34m[\u001b[0m\u001b[0;36m0\u001b[0m\u001b[0;34m]\u001b[0m\u001b[0;34m]\u001b[0m\u001b[0;34m\u001b[0m\u001b[0;34m\u001b[0m\u001b[0m\n\u001b[0m",
      "\u001b[0;31mKeyError\u001b[0m: 'pwc:model/mask-r-cnn--vil-base--multi-scale--3x-lr-'"
     ]
    }
   ],
   "source": [
    "nodes_dict[target_nodes[0]]"
   ]
  },
  {
   "cell_type": "code",
   "execution_count": 16,
   "id": "72d78079",
   "metadata": {},
   "outputs": [
    {
     "data": {
      "text/plain": [
       "{'type': 'task'}"
      ]
     },
     "execution_count": 16,
     "metadata": {},
     "output_type": "execute_result"
    }
   ],
   "source": [
    "nodes_dict[target_nodes[1]]"
   ]
  },
  {
   "cell_type": "markdown",
   "id": "bd321146",
   "metadata": {},
   "source": [
    "- After running the above code many times manually, it looks like that it is always the first node (among two target nodes) which is missing in the graph."
   ]
  },
  {
   "cell_type": "markdown",
   "id": "3fab08b3",
   "metadata": {},
   "source": [
    "## 3. non-connected target nodes (also in positive samples)"
   ]
  },
  {
   "cell_type": "code",
   "execution_count": 17,
   "id": "47945c0f",
   "metadata": {},
   "outputs": [],
   "source": [
    "df_degrees_avg= pd.read_csv(\"samples_all_average_degree_per_graph.csv\", index_col=0)"
   ]
  },
  {
   "cell_type": "code",
   "execution_count": 18,
   "id": "a3a1828b",
   "metadata": {},
   "outputs": [
    {
     "data": {
      "text/plain": [
       "(318, 5)"
      ]
     },
     "execution_count": 18,
     "metadata": {},
     "output_type": "execute_result"
    }
   ],
   "source": [
    "# emtpy graphs\n",
    "df_degrees_avg[df_degrees_avg[\"avg_degree_targets\"] == 0].shape"
   ]
  },
  {
   "cell_type": "code",
   "execution_count": 20,
   "id": "5eba44e5",
   "metadata": {},
   "outputs": [
    {
     "data": {
      "text/plain": [
       "0.5    140\n",
       "1.0    128\n",
       "2.0    111\n",
       "1.5    110\n",
       "2.5     84\n",
       "Name: avg_degree_targets, dtype: int64"
      ]
     },
     "execution_count": 20,
     "metadata": {},
     "output_type": "execute_result"
    }
   ],
   "source": [
    "# focus only on positive, i.e., connected target nodes\n",
    "# notice that there are average degrees that are even lower than 1\n",
    "df_degrees_avg_pos = df_degrees_avg[df_degrees_avg[\"label\"]==\"pos\"]\n",
    "df_degrees_avg_pos[\"avg_degree_targets\"].value_counts().iloc[:5]"
   ]
  },
  {
   "cell_type": "code",
   "execution_count": 27,
   "id": "0acf745f",
   "metadata": {},
   "outputs": [
    {
     "data": {
      "text/plain": [
       "24        pair_graph_sample_pos_12_graph.json\n",
       "122       pair_graph_sample_pos_61_graph.json\n",
       "156       pair_graph_sample_pos_78_graph.json\n",
       "180       pair_graph_sample_pos_90_graph.json\n",
       "248      pair_graph_sample_pos_124_graph.json\n",
       "                        ...                  \n",
       "9802    pair_graph_sample_pos_4901_graph.json\n",
       "9820    pair_graph_sample_pos_4910_graph.json\n",
       "9830    pair_graph_sample_pos_4915_graph.json\n",
       "9898    pair_graph_sample_pos_4949_graph.json\n",
       "9966    pair_graph_sample_pos_4983_graph.json\n",
       "Name: graph, Length: 140, dtype: object"
      ]
     },
     "execution_count": 27,
     "metadata": {},
     "output_type": "execute_result"
    }
   ],
   "source": [
    "df_degrees_avg_pos[df_degrees_avg_pos[\"avg_degree_targets\"] == 0.5][\"graph\"]"
   ]
  },
  {
   "cell_type": "code",
   "execution_count": 28,
   "id": "48f6d64b",
   "metadata": {},
   "outputs": [],
   "source": [
    "# take the first graph as an example\n",
    "file_graph = 'pair_graph_sample_pos_12_graph.json'\n",
    "file_pred = 'pair_graph_sample_pos_12_prediction_edge.json'\n",
    "g, nodes = generate_atom_graph(directory, file_graph, file_pred)"
   ]
  },
  {
   "cell_type": "code",
   "execution_count": 29,
   "id": "9ce34dd2",
   "metadata": {},
   "outputs": [
    {
     "data": {
      "text/plain": [
       "['pwc:method/cspdarknet53', 'pwc:model/yolov4-608']"
      ]
     },
     "execution_count": 29,
     "metadata": {},
     "output_type": "execute_result"
    }
   ],
   "source": [
    "nodes"
   ]
  },
  {
   "cell_type": "code",
   "execution_count": 30,
   "id": "b8131530",
   "metadata": {},
   "outputs": [
    {
     "data": {
      "text/plain": [
       "1"
      ]
     },
     "execution_count": 30,
     "metadata": {},
     "output_type": "execute_result"
    }
   ],
   "source": [
    "dict(g.degree()).get(nodes[0], 0)"
   ]
  },
  {
   "cell_type": "code",
   "execution_count": 31,
   "id": "76a514ca",
   "metadata": {},
   "outputs": [
    {
     "data": {
      "text/plain": [
       "0"
      ]
     },
     "execution_count": 31,
     "metadata": {},
     "output_type": "execute_result"
    }
   ],
   "source": [
    "dict(g.degree()).get(nodes[1], 0)"
   ]
  },
  {
   "cell_type": "markdown",
   "id": "1c011496",
   "metadata": {},
   "source": [
    "- There is a certain amount of graphs (averaged degress of target nodes = 0.5), whose target nodes may not be connected to any other node, even in the case of a positive samples. Also some other graphs (averaged degress of target nodes = 1) may have two target nodes that are only connected to each other."
   ]
  },
  {
   "cell_type": "markdown",
   "id": "627ea97a",
   "metadata": {},
   "source": [
    "---"
   ]
  }
 ],
 "metadata": {
  "kernelspec": {
   "display_name": "Python 3 (ipykernel)",
   "language": "python",
   "name": "python3"
  },
  "language_info": {
   "codemirror_mode": {
    "name": "ipython",
    "version": 3
   },
   "file_extension": ".py",
   "mimetype": "text/x-python",
   "name": "python",
   "nbconvert_exporter": "python",
   "pygments_lexer": "ipython3",
   "version": "3.7.3"
  }
 },
 "nbformat": 4,
 "nbformat_minor": 5
}
