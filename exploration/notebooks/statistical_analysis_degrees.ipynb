{
 "cells": [
  {
   "cell_type": "code",
   "execution_count": 1,
   "id": "3e30d220",
   "metadata": {},
   "outputs": [],
   "source": [
    "import pandas as pd\n",
    "import os\n",
    "import json\n",
    "import numpy as np\n",
    "import seaborn as sns\n",
    "from tqdm import tqdm\n",
    "import matplotlib.pyplot as plt\n",
    "from sklearn.model_selection import train_test_split\n",
    "from sklearn.metrics import accuracy_score, precision_score, recall_score, f1_score\n",
    "import config as cg_config"
   ]
  },
  {
   "cell_type": "markdown",
   "id": "255237fe",
   "metadata": {},
   "source": [
    "## 1 . Load the whole graph\n",
    "#### (No analysis here, can be skipped over)"
   ]
  },
  {
   "cell_type": "code",
   "execution_count": 2,
   "id": "855573cf",
   "metadata": {},
   "outputs": [],
   "source": [
    "import csv\n",
    "import os\n",
    "import json\n",
    "import random\n",
    "import networkx as nx\n",
    "import numpy as np\n",
    "import config as cg_config\n",
    "\n",
    "\n",
    "class cooc_edge_dict(dict):\n",
    "    def __hash__(self):\n",
    "            return hash(tuple(sorted(self['edge'])))\n",
    "\n",
    "\n",
    "def _load_node_tuples(with_contexts=False, entities_only=False):\n",
    "    \"\"\" loads nodes as (<id>, <properties>) tuples\n",
    "    \"\"\"\n",
    "\n",
    "    entity_tuples = []\n",
    "    # first all regularly stored entities\n",
    "    node_fns = [\n",
    "        cg_config.graph_meths_fn,\n",
    "        cg_config.graph_dsets_fn,\n",
    "        cg_config.graph_tasks_fn,\n",
    "        cg_config.graph_modls_fn,\n",
    "    ]\n",
    "    if not entities_only:\n",
    "        node_fns.append(cg_config.graph_pprs_fn)\n",
    "    if with_contexts:\n",
    "        node_fns.append(cg_config.graph_cntxts_fn)\n",
    "    for fn in node_fns:\n",
    "        with open(os.path.join(cg_config.graph_data_dir, fn)) as f:\n",
    "            for line in f:\n",
    "                entity = json.loads(line)\n",
    "                entity_tuples.append((entity['id'], entity))\n",
    "    # then some special processing for the areas to collections data\n",
    "    with open(os.path.join(\n",
    "        cg_config.graph_data_dir,\n",
    "        cg_config.graph_meth_areas_fn\n",
    "    )) as f:\n",
    "        if entities_only:\n",
    "            pass\n",
    "        for line in f:\n",
    "            # area\n",
    "            area = json.loads(line)\n",
    "            entity_tuples.append((\n",
    "                area['id'],\n",
    "                {\n",
    "                    'id': area['id'],\n",
    "                    'type': area['type'],\n",
    "                    'name': area['name']\n",
    "                }\n",
    "            ))\n",
    "            # all contained collections\n",
    "            for coll in area['collections']:\n",
    "                entity_tuples.append(\n",
    "                    (coll['id'], coll)\n",
    "                )\n",
    "    return entity_tuples\n",
    "\n",
    "\n",
    "def _load_edge_tuples(with_contexts=False, final_node_set=False):\n",
    "    \"\"\" loads edges as (<id>, <properties>) tuples\n",
    "\n",
    "        If final_node_set is given, only edges between existing nodes\n",
    "        will be returned.\n",
    "    \"\"\"\n",
    "\n",
    "    # first all regularly stored edges\n",
    "    edge_types = [\n",
    "        # used_in_paper\n",
    "        [cg_config.graph_meths_to_pprs_fn, 'used_in_paper'],\n",
    "        [cg_config.graph_dsets_to_pprs_fn, 'used_in_paper'],\n",
    "        [cg_config.graph_tasks_to_pprs_fn, 'used_in_paper'],\n",
    "        [cg_config.graph_modls_to_pprs_fn, 'used_in_paper'],\n",
    "        # evaluated on\n",
    "        [cg_config.graph_meths_to_dsets_fn, 'evaluated_on'],\n",
    "        # # ^ NOTE: this means method used for (some task) on dataset\n",
    "        # #         as extracted from evaltable\n",
    "        # #         TODO: - mby also establish link between method and task\n",
    "        # #               - or think of a \"eval set\" (meth, dset, task)\n",
    "        # #               - should be associated w/ a date to prune graph of\n",
    "        # #                 future\n",
    "        # has task\n",
    "        [cg_config.graph_dsets_to_tasks_fn, 'has_task'],\n",
    "        # has subtask\n",
    "        [cg_config.graph_tasks_to_subtasks_fn, 'has_subtask'],\n",
    "        # # ^ could be reversed and given type 'part_of'\n",
    "        # cites\n",
    "        [cg_config.graph_ppr_to_ppr_fn, 'cites'],\n",
    "        # part_of\n",
    "        [cg_config.graph_meths_to_colls_fn, 'part_of']\n",
    "        # (further down also: collection to area\n",
    "        #                     entity     to context (if param set)\n",
    "        #                     context    to paper)\n",
    "    ]\n",
    "    edge_tuples = []\n",
    "    for (fn, edge_type) in edge_types:\n",
    "        header_idxs = [0, 1]\n",
    "        if edge_type == 'cites':\n",
    "            header_idxs = [3, 4]\n",
    "        with open(os.path.join(cg_config.graph_data_dir, fn)) as f:\n",
    "            csv_reader = csv.DictReader(\n",
    "                f,\n",
    "                delimiter=',',\n",
    "                quoting=csv.QUOTE_NONE\n",
    "            )\n",
    "            headers = csv_reader.fieldnames\n",
    "            for row in csv_reader:\n",
    "                tail_id = row[headers[header_idxs[0]]]\n",
    "                head_id = row[headers[header_idxs[1]]]\n",
    "                if final_node_set is False or (\n",
    "                        tail_id in final_node_set and\n",
    "                        head_id in final_node_set\n",
    "                        ):\n",
    "                    edge_tuples.append(\n",
    "                        (\n",
    "                            tail_id,\n",
    "                            head_id,\n",
    "                            {'type': edge_type}\n",
    "                        )\n",
    "                    )\n",
    "    # then some special processing for the areas to collections data\n",
    "    with open(os.path.join(\n",
    "        cg_config.graph_data_dir,\n",
    "        cg_config.graph_meth_areas_fn\n",
    "    )) as f:\n",
    "        for line in f:\n",
    "            area = json.loads(line)\n",
    "            head_id = area['id']\n",
    "            for coll in area['collections']:\n",
    "                tail_id = coll['id']\n",
    "                if final_node_set is False or (\n",
    "                        tail_id in final_node_set and\n",
    "                        head_id in final_node_set\n",
    "                        ):\n",
    "                    edge_tuples.append(\n",
    "                        (\n",
    "                            tail_id,\n",
    "                            head_id,\n",
    "                            {'type': 'part_of'}\n",
    "                        )\n",
    "                    )\n",
    "\n",
    "    if with_contexts:\n",
    "        # lastly some special processing for contexts to papers and entities\n",
    "        with open(os.path.join(\n",
    "            cg_config.graph_data_dir,\n",
    "            cg_config.graph_cntxts_fn\n",
    "        )) as f:\n",
    "            for line in f:\n",
    "                cntxt = json.loads(line)\n",
    "                # entity to context\n",
    "                tail_id = cntxt['entity_id']\n",
    "                head_id = cntxt['id']\n",
    "                if final_node_set is False or (\n",
    "                        tail_id in final_node_set and\n",
    "                        head_id in final_node_set\n",
    "                        ):\n",
    "                    edge_tuples.append(\n",
    "                        (\n",
    "                            tail_id,\n",
    "                            head_id,\n",
    "                            {'type': 'part_of'}\n",
    "                        )\n",
    "                    )\n",
    "                # context to paper\n",
    "                tail_id = cntxt['id']\n",
    "                head_id = cntxt['paper_pwc_id']\n",
    "                if final_node_set is False or (\n",
    "                        tail_id in final_node_set and\n",
    "                        head_id in final_node_set\n",
    "                        ):\n",
    "                    edge_tuples.append(\n",
    "                        (\n",
    "                            tail_id,\n",
    "                            head_id,\n",
    "                            {'type': 'part_of'}\n",
    "                        )\n",
    "                    )\n",
    "    return edge_tuples\n",
    "\n",
    "\n",
    "def _get_entity_coocurrence_edges(G, lim=-1):\n",
    "    \"\"\" Determine pairs of entities (of dissimilar type) which\n",
    "        are used in at least one common paper.\n",
    "\n",
    "        To make subsequent processing steps more efficient,\n",
    "        also determine all common papers for each entity\n",
    "        pair as well as the earliest year in which any of those\n",
    "        papers was published.\n",
    "    \"\"\"\n",
    "\n",
    "    cooc_edges = dict()\n",
    "    # get an undirected view to be able\n",
    "    # to go from papers to used enitites\n",
    "    uG = G.to_undirected(as_view=True)\n",
    "    # for all papers\n",
    "    lim_reached = False\n",
    "    for (ppr_id, ppr_data) in uG.nodes(data=True):\n",
    "        if lim_reached:\n",
    "            break\n",
    "        if 'type' not in ppr_data:\n",
    "            # nodes without any data get created by\n",
    "            # adding edges to inexistent nodes\n",
    "            continue\n",
    "        if ppr_data['type'] != 'paper':\n",
    "            continue\n",
    "        ppr_used_entities = set()\n",
    "        # for all their used entities\n",
    "        for (entity_id, edge_data) in uG.adj[ppr_id].items():\n",
    "            if edge_data['type'] != 'used_in_paper':\n",
    "                continue\n",
    "            ppr_used_entities.add(entity_id)\n",
    "        # get pairs of entities of dissimilar type\n",
    "        for e1_id in ppr_used_entities:\n",
    "            if lim_reached:\n",
    "                break\n",
    "            e1 = G.nodes[e1_id]\n",
    "            for e2_id in ppr_used_entities:\n",
    "                if lim_reached:\n",
    "                    break\n",
    "                e2 = G.nodes[e2_id]\n",
    "                # only need to check for dissimilar node type\n",
    "                # ⇣ because dissimilar ID logically follows\n",
    "                if e1['type'] != e2['type'] and \\\n",
    "                        not (e1['type'] == 'model' and e2['type'] == 'method'):\n",
    "                    key = '_'.join(sorted([e1_id, e2_id]))\n",
    "                    if key not in cooc_edges:\n",
    "                        cooc_edges[key] = cooc_edge_dict({\n",
    "                            'edge': [e1_id, e2_id],\n",
    "                            'cooc_pprs': set([ppr_id]),\n",
    "                            'cooc_start_year': ppr_data['year'],\n",
    "                            'cooc_start_month': ppr_data['month']\n",
    "                        })\n",
    "                    else:\n",
    "                        cooc_edges[key]['cooc_pprs'].add(\n",
    "                            ppr_id\n",
    "                        )\n",
    "                        cooc_edges[key]['cooc_start_year'] = min(\n",
    "                            ppr_data['year'],\n",
    "                            cooc_edges[key]['cooc_start_year']\n",
    "                        )\n",
    "                        cooc_edges[key]['cooc_start_month'] = min(\n",
    "                            ppr_data['year'],\n",
    "                            cooc_edges[key]['cooc_start_month']\n",
    "                        )\n",
    "                    if lim > 0 and len(cooc_edges) >= lim:\n",
    "                        lim_reached = True\n",
    "\n",
    "    return cooc_edges  # 2M edges if lim is not set\n",
    "\n",
    "\n",
    "def _get_two_hop_pair_neighborhood_nodes(cooc_entity_pair, G):\n",
    "    \"\"\" Get two hop neighborhood for a pair of entities\n",
    "        that co-occur in at least one paper.\n",
    "    \"\"\"\n",
    "\n",
    "    # TODO: generalize to n hops\n",
    "\n",
    "    keep_node_ids = set()\n",
    "\n",
    "    # get an undirected view to be able\n",
    "    # to go from papers to used enitites\n",
    "    uG = G.to_undirected(as_view=True)\n",
    "\n",
    "    # for both entities\n",
    "    for entity in cooc_entity_pair['edge']:\n",
    "        # first hop neighborhood\n",
    "        for one_hop_neigh in uG.neighbors(entity):\n",
    "            keep_node_ids.add(one_hop_neigh)\n",
    "            # second hop neighborhood\n",
    "            for two_hop_neigh in uG.neighbors(one_hop_neigh):\n",
    "                keep_node_ids.add(two_hop_neigh)\n",
    "    return G.subgraph(keep_node_ids)\n",
    "\n",
    "\n",
    "def _get_pruned_graph(cooc_entity_pair, G):\n",
    "    \"\"\" For a pair of entities that co-occur in at least one paper\n",
    "        (given as a dictionary containing the entities and a list of\n",
    "        all co-occurrence papers)\n",
    "        return a pruned version of the graph G that contains only\n",
    "        papers before the first co-occurrence paper.\n",
    "    \"\"\"\n",
    "\n",
    "    # TODO: currently takes 4 seconds on full graph -> too long?\n",
    "    #       (takes 126 ms on an edge’s two hop neighborhood)\n",
    "\n",
    "    keep_node_ids = []\n",
    "\n",
    "    # determine all papers published after earliest cooc ppr\n",
    "    for node_id in G.nodes:\n",
    "        node_data = G.nodes[node_id]\n",
    "        if len(node_data) > 0:\n",
    "            if node_data['type'] != 'paper':\n",
    "                # not a paper, keep\n",
    "                # (TODO: also consider other enitites\n",
    "                #  that should be removed)\n",
    "                keep_node_ids.append(node_id)\n",
    "            elif node_data['year'] < cooc_entity_pair['cooc_start_year'] and \\\n",
    "                    node_data['month'] < cooc_entity_pair['cooc_start_month']:\n",
    "                # a paper but published early enough\n",
    "                keep_node_ids.append(node_id)\n",
    "\n",
    "    return G.subgraph(keep_node_ids)\n",
    "\n",
    "\n",
    "def _corrupted_cooc_eges(e1, e2, G):\n",
    "    \"\"\" Return corrupted co-occurrence edges by\n",
    "        swapping tail nodes.\n",
    "\n",
    "        Assumes that\n",
    "            - earliest co-occurrence paper of e1 and e1\n",
    "              were published in the same year.\n",
    "            - sets co-occurrence papers of e1 and e1 are\n",
    "              disjoint.\n",
    "    \"\"\"\n",
    "\n",
    "    shared_cooc_start_year = e1['cooc_start_year']\n",
    "    # the start month of negative samples has a *LARGE*\n",
    "    # impact on the resulting size of pruned graphs,\n",
    "    # as many papers are published in a short time.\n",
    "    # tried\n",
    "    # - default 1 -> neg smpl graphs way smaller\n",
    "    # - default 6 -> \"\n",
    "    # - for each corrupted edge take the\n",
    "    #   month of the entity which is more\n",
    "    #   connected -> \"\n",
    "    # - same as above but never\n",
    "    #   less than 7 -> looks about right\n",
    "    # - default 12 -> neg smpl graphs somewhat larger\n",
    "    # (clustering by year and month beforehand leads\n",
    "    #  to average cluster sizes of mean ~2.9 and\n",
    "    #  median 2 => swapping partners are not really\n",
    "    #  random anymore but determined by publishing month\n",
    "    #  => likely underirable)\n",
    "    corr1_edge = [e1['edge'][0], e2['edge'][1]]\n",
    "    if len(G.adj[e1['edge'][0]]) > len(G.adj[e2['edge'][1]]):\n",
    "        corr1_month = e1['cooc_start_month']\n",
    "    else:\n",
    "        corr1_month = e2['cooc_start_month']\n",
    "    corr1 = cooc_edge_dict({\n",
    "        'edge': corr1_edge,\n",
    "        'cooc_pprs': set(),  # empty\n",
    "        'cooc_start_year': shared_cooc_start_year,\n",
    "        'cooc_start_month': max(corr1_month, 7),\n",
    "    })\n",
    "    corr2_edge = [e2['edge'][0], e1['edge'][1]]\n",
    "    if len(G.adj[e2['edge'][0]]) > len(G.adj[e1['edge'][1]]):\n",
    "        corr2_month = e2['cooc_start_month']\n",
    "    else:\n",
    "        corr2_month = e1['cooc_start_month']\n",
    "    corr2 = cooc_edge_dict({\n",
    "        'edge': corr2_edge,\n",
    "        'cooc_pprs': set(),  # empty\n",
    "        'cooc_start_year': shared_cooc_start_year,\n",
    "        'cooc_start_month': max(corr2_month, 7),\n",
    "    })\n",
    "    return [corr1, corr2]\n",
    "\n",
    "\n",
    "def get_pair_graphs(n_true_pairs, G):\n",
    "    \"\"\" Return 2 × n_true_pairs graphs with their respective prediction edge.\n",
    "            - half are *prunded* graphs of co-occurring entities\n",
    "            - the other half are *prunded* graphs of non-co-occurring entities\n",
    "\n",
    "        A pair of co-occurring entities are two differently typed entities\n",
    "        which have at least one common paper in which they are used.\n",
    "    \"\"\"\n",
    "\n",
    "    # get positive training examples\n",
    "    # # don’t apply limit here                          |\n",
    "    # # b/c it’s fast enough to do the whole graph      V\n",
    "    cooc_edges_full = _get_entity_coocurrence_edges(G, -1)\n",
    "    # generate negative training examples\n",
    "    # # cluster co-occurrence edges by year of earliest cooc ppr\n",
    "    edge_year_clusters = dict()\n",
    "    for key, cooc_edge in cooc_edges_full.items():\n",
    "        # only use year here and not also month\n",
    "        if cooc_edge['cooc_start_year'] not in edge_year_clusters:\n",
    "            edge_year_clusters[cooc_edge['cooc_start_year']] = []\n",
    "        edge_year_clusters[cooc_edge['cooc_start_year']].append(\n",
    "            cooc_edge\n",
    "        )\n",
    "    # # generate corrupted co-occurrence edges by swapping entities\n",
    "    # # between edges in the same co-occurrence year cluster that\n",
    "    # # have disjoint co-occurrence paper sets\n",
    "    num_cooc_edges_full = sum([len(l) for k, l in edge_year_clusters.items()])\n",
    "    year_smpl_sizes = dict()\n",
    "    for cooc_start_year, cooc_edge_list in edge_year_clusters.items():\n",
    "        # determine co-occurrence year cluter characteristics\n",
    "        proportion = len(cooc_edge_list)/num_cooc_edges_full\n",
    "        if n_true_pairs > 0:\n",
    "            sample_size = round(n_true_pairs * proportion)\n",
    "        else:\n",
    "            sample_size = round(len(cooc_edge_list) * proportion)\n",
    "        year_smpl_sizes[cooc_start_year] = sample_size\n",
    "    if n_true_pairs > 0:\n",
    "        # # make sure year samples add up to n_true_pairs\n",
    "        smpl_diff = n_true_pairs - sum(year_smpl_sizes.values())\n",
    "        fill_year = list(year_smpl_sizes.keys())[\n",
    "            np.argmax(year_smpl_sizes.values())\n",
    "        ]\n",
    "        year_smpl_sizes[fill_year] += smpl_diff\n",
    "    # # sample positive and negative prediction edges\n",
    "    cooc_edges_pos = set()\n",
    "    cooc_edges_neg = set()\n",
    "    for cooc_start_year, cooc_edge_list in edge_year_clusters.items():\n",
    "        sample_size = year_smpl_sizes[cooc_start_year]\n",
    "        if sample_size < 1:\n",
    "            continue\n",
    "        # create negative samples\n",
    "        shuf1 = random.sample(cooc_edge_list, len(cooc_edge_list))\n",
    "        shuf2 = random.sample(cooc_edge_list, len(cooc_edge_list))\n",
    "        size_reached = False\n",
    "        year_smpl_pos = set()\n",
    "        year_smpl_neg = set()\n",
    "        for cooc_edge1 in shuf1:\n",
    "            if size_reached:\n",
    "                break\n",
    "            for cooc_edge2 in shuf2:\n",
    "                if len(year_smpl_pos) >= sample_size and \\\n",
    "                   len(year_smpl_neg) >= sample_size:\n",
    "                    size_reached = True\n",
    "                if len(set.intersection(\n",
    "                    cooc_edge1['cooc_pprs'],\n",
    "                    cooc_edge2['cooc_pprs']\n",
    "                )) == 0:\n",
    "                    # true prediction edges\n",
    "                    year_smpl_pos.add(cooc_edge1)\n",
    "                    year_smpl_pos.add(cooc_edge2)\n",
    "                    # false prediction edges\n",
    "                    corr1, corr2 = _corrupted_cooc_eges(\n",
    "                        cooc_edge1, cooc_edge2, G\n",
    "                    )\n",
    "                    year_smpl_neg.add(corr1)\n",
    "                    year_smpl_neg.add(corr2)\n",
    "        # cut year’s contribution to full sample to size\n",
    "        cooc_edges_pos.update(\n",
    "            random.sample(\n",
    "                year_smpl_pos,\n",
    "                min(sample_size, len(year_smpl_pos))\n",
    "                )\n",
    "        )\n",
    "        cooc_edges_neg.update(\n",
    "            random.sample(\n",
    "                year_smpl_neg,\n",
    "                min(sample_size, len(year_smpl_neg))\n",
    "                )\n",
    "        )\n",
    "    # create graphs\n",
    "    true_pair_grahps = []\n",
    "    false_pair_grahps = []\n",
    "    for graph_list, edge_list in [\n",
    "        (true_pair_grahps, cooc_edges_pos),\n",
    "        (false_pair_grahps, cooc_edges_neg)\n",
    "    ]:\n",
    "        for cooc_edge in edge_list:\n",
    "            # reduce to neighborhood that is potentially necessary (speedup)\n",
    "            neigh_G = _get_two_hop_pair_neighborhood_nodes(cooc_edge, G)\n",
    "            # remove paper nodes based on time constraint\n",
    "            pruned_G = _get_pruned_graph(cooc_edge, neigh_G)\n",
    "            # reduce to neighborhood (gets rid of stuff that is onyl\n",
    "            # connected in unpruned graph)\n",
    "            pruned_neigh_G = _get_two_hop_pair_neighborhood_nodes(\n",
    "                cooc_edge,\n",
    "                pruned_G\n",
    "            )\n",
    "            graph_list.append({\n",
    "                'prediction_edge': cooc_edge,\n",
    "                'graph': pruned_neigh_G\n",
    "            })\n",
    "    # test for n_true_pairs = 200:\n",
    "    #\n",
    "    # In [204]: np.mean([len(x['graph'].nodes) for x in fls])\n",
    "    # Out[204]: 134.485\n",
    "    # In [205]: np.mean([len(x['graph'].nodes) for x in tru])\n",
    "    # Out[205]: 2742.075\n",
    "    # -> why fewer nodes for negative edges?\n",
    "    # TODO: debug\n",
    "    #\n",
    "    # In [202]: np.mean([len(x['graph'].edges) for x in fls])\n",
    "    # Out[202]: 193.685\n",
    "    # In [203]: np.mean([len(x['graph'].edges) for x in tru])\n",
    "    # Out[203]: 17480.44\n",
    "    return true_pair_grahps, false_pair_grahps\n",
    "\n",
    "\n",
    "def make_shallow(G):\n",
    "    \"\"\" Remove all attributes except for type from nodes and edges\n",
    "    \"\"\"\n",
    "\n",
    "    if type(G) == nx.DiGraph:\n",
    "        shallow_G = nx.DiGraph()\n",
    "    else:\n",
    "        shallow_G = nx.Graph()\n",
    "\n",
    "    for nid, ndata in G.nodes.items():\n",
    "        shallow_G.add_nodes_from([(nid, {'type': ndata['type']})])\n",
    "    for edge_tuple, edata in G.edges.items():\n",
    "        naid, nbid = edge_tuple\n",
    "        shallow_G.add_edges_from([(naid, nbid, {'type': edata['type']})])\n",
    "\n",
    "    return shallow_G\n",
    "\n",
    "\n",
    "def _load_entity_combi_edge_tuples(final_node_set=False, scheme='sequence'):\n",
    "    \"\"\" Determine edges tuples that represent the\n",
    "        number of co-occurrence papers between entities.\n",
    "\n",
    "        schemes:\n",
    "            - sequence: time sequence of co-occurences\n",
    "            - weight: number of co-occurences\n",
    "    \"\"\"\n",
    "\n",
    "    # not the most time efficient, but simply\n",
    "    # go from the full graph using existing code\n",
    "    G = load_full_graph()\n",
    "    cooc_edges_full = _get_entity_coocurrence_edges(G, -1)\n",
    "    # create combi edges\n",
    "    edge_tuples = []\n",
    "    # determine earliest cooc ppr in current data is from 1994\n",
    "    cooc_years = []\n",
    "    for k, ce in cooc_edges_full.items():\n",
    "        cooc_years.append(ce['cooc_start_year'])\n",
    "    beginning_of_time = min(cooc_years)\n",
    "    for key, cooc_edge in cooc_edges_full.items():\n",
    "        ppr_a_id = cooc_edge['edge'][0]\n",
    "        ppr_b_id = cooc_edge['edge'][1]\n",
    "        if scheme == 'sequence':\n",
    "            # build co-occurence time sequence\n",
    "            cooc_time_sequence = []\n",
    "            cooc_ppr_sequence = []\n",
    "            for ppr_id in cooc_edge['cooc_pprs']:\n",
    "                y = G.nodes[ppr_id]['year']\n",
    "                m = G.nodes[ppr_id]['month']\n",
    "                # there is also day info, but mby not so relevant\n",
    "                if y > 0 and m > 0:  # is -1 if info not given\n",
    "                    year_in_cooc_time = y - beginning_of_time\n",
    "                    month_in_cooc_time = (year_in_cooc_time * 12) + m\n",
    "                    cooc_time_sequence.append(month_in_cooc_time)\n",
    "                    cooc_ppr_sequence.append(ppr_id)\n",
    "            edge_property = {\n",
    "                'interaction_sequence': cooc_time_sequence,\n",
    "                'linker_sequence': cooc_ppr_sequence\n",
    "            }\n",
    "        elif scheme == 'weight':\n",
    "            # TODO:\n",
    "            # consider then using add_weighted_edges_from later\n",
    "            edge_property = {'weight': len(cooc_edge['cooc_pprs'])}\n",
    "        if not final_node_set or \\\n",
    "                (final_node_set and\n",
    "                 ppr_a_id in final_node_set and\n",
    "                 ppr_b_id in final_node_set):\n",
    "            edge_tuples.append(\n",
    "                (\n",
    "                    ppr_a_id,\n",
    "                    ppr_b_id,\n",
    "                    edge_property\n",
    "                )\n",
    "            )\n",
    "    return edge_tuples\n",
    "\n",
    "\n",
    "def load_entity_combi_graph():\n",
    "    \"\"\" Load graph only containing the entity nodes,\n",
    "        connected by weighted edges that represent the\n",
    "        number of co-occurrence papers.\n",
    "\n",
    "        NOTE: to access edge attributes later,\n",
    "               G.edges(data=True) has to be used!\n",
    "    \"\"\"\n",
    "\n",
    "    node_tuples = _load_node_tuples(entities_only=True)\n",
    "    edge_tuples = _load_entity_combi_edge_tuples(\n",
    "        # make sure not to give networkx a reason to implicitly\n",
    "        # add empty, untyped nodes because of edges\n",
    "        final_node_set=set([ntup[0] for ntup in node_tuples])\n",
    "    )\n",
    "    G = nx.Graph()\n",
    "    G.add_nodes_from(node_tuples)\n",
    "    G.add_edges_from(edge_tuples)\n",
    "    return G\n",
    "\n",
    "\n",
    "def load_full_graph(shallow=False, directed=True, with_contexts=False):\n",
    "    \"\"\" Load nodes and edges into a NetworkX digraph.\n",
    "\n",
    "        If shallow is True, all node and edge features\n",
    "        except for type will be discarded.\n",
    "    \"\"\"\n",
    "\n",
    "    node_tuples = _load_node_tuples(\n",
    "        with_contexts=with_contexts\n",
    "    )\n",
    "    edge_tuples = _load_edge_tuples(\n",
    "        with_contexts=with_contexts,\n",
    "        # make sure not to give networkx a reason to implicitly\n",
    "        # add empty, untyped nodes because of edges\n",
    "        final_node_set=set([ntup[0] for ntup in node_tuples])\n",
    "    )\n",
    "    if shallow:\n",
    "        shallow_node_tuples = []\n",
    "        shallow_edge_tuples = []\n",
    "        for n in node_tuples:\n",
    "            shallow_node_tuples.append((\n",
    "                n[0],\n",
    "                {'type': n[1]['type']}\n",
    "            ))\n",
    "        for e in edge_tuples:\n",
    "            shallow_edge_tuples.append((\n",
    "                e[0],\n",
    "                e[1],\n",
    "                {'type': e[2]['type']}\n",
    "            ))\n",
    "        node_tuples = shallow_node_tuples\n",
    "        edge_tuples = shallow_edge_tuples\n",
    "    if directed:\n",
    "        G = nx.DiGraph()\n",
    "    else:\n",
    "        G = nx.Graph()\n",
    "    G.add_nodes_from(node_tuples)\n",
    "    G.add_edges_from(edge_tuples)\n",
    "    return G\n",
    "\n"
   ]
  },
  {
   "cell_type": "code",
   "execution_count": 3,
   "id": "a3c599b9",
   "metadata": {},
   "outputs": [],
   "source": [
    "G = load_full_graph()"
   ]
  },
  {
   "cell_type": "code",
   "execution_count": 4,
   "id": "681a77e4",
   "metadata": {},
   "outputs": [
    {
     "data": {
      "text/plain": [
       "284760"
      ]
     },
     "execution_count": 4,
     "metadata": {},
     "output_type": "execute_result"
    }
   ],
   "source": [
    "len(G.nodes)"
   ]
  },
  {
   "cell_type": "markdown",
   "id": "16dd1d2b",
   "metadata": {},
   "source": [
    "## 2. statistical anaylsis for the whole and atom graphs"
   ]
  },
  {
   "cell_type": "markdown",
   "id": "bee26fa9",
   "metadata": {},
   "source": [
    "### 2.1 num analysis"
   ]
  },
  {
   "cell_type": "code",
   "execution_count": 5,
   "id": "28bb6df8",
   "metadata": {},
   "outputs": [
    {
     "data": {
      "text/plain": [
       "paper         260382\n",
       "model          14581\n",
       "dataset         5109\n",
       "task            2534\n",
       "method          1802\n",
       "collection       345\n",
       "area               7\n",
       "dtype: int64"
      ]
     },
     "execution_count": 5,
     "metadata": {},
     "output_type": "execute_result"
    }
   ],
   "source": [
    "types = []\n",
    "for i in G.nodes(data=True):\n",
    "    try:\n",
    "        type_ = i[0].split(\":\")[1].split(\"/\")[0]\n",
    "    except:\n",
    "        type_ = None\n",
    "    types.append(type_)\n",
    "\n",
    "df_types = pd.DataFrame(types)\n",
    "df_types.value_counts()"
   ]
  },
  {
   "cell_type": "code",
   "execution_count": 36,
   "id": "543d0b7c",
   "metadata": {},
   "outputs": [
    {
     "data": {
      "text/plain": [
       "284760"
      ]
     },
     "execution_count": 36,
     "metadata": {},
     "output_type": "execute_result"
    }
   ],
   "source": [
    "# total number of entities\n",
    "df_types.value_counts().sum()"
   ]
  },
  {
   "cell_type": "code",
   "execution_count": 35,
   "id": "b143435d",
   "metadata": {},
   "outputs": [
    {
     "data": {
      "text/plain": [
       "0.9143910661609777"
      ]
     },
     "execution_count": 35,
     "metadata": {},
     "output_type": "execute_result"
    }
   ],
   "source": [
    "# percentage of \"paper\"\n",
    "df_types.value_counts()[0]/df_types.value_counts().sum()"
   ]
  },
  {
   "cell_type": "code",
   "execution_count": 6,
   "id": "ad917f1f",
   "metadata": {},
   "outputs": [],
   "source": [
    "# existing edges / possible edges\n",
    "#nx.density(G)\n",
    "#nx.connected_components(G)\n",
    "#nx.transitivity(G)"
   ]
  },
  {
   "cell_type": "markdown",
   "id": "8ae2f99d",
   "metadata": {},
   "source": [
    "### 2.2 degree"
   ]
  },
  {
   "cell_type": "markdown",
   "id": "b12e37f9",
   "metadata": {},
   "source": [
    "#### 2.2.1 Whole graph"
   ]
  },
  {
   "cell_type": "code",
   "execution_count": 7,
   "id": "b93c6aac",
   "metadata": {},
   "outputs": [],
   "source": [
    "df_degree = pd.DataFrame(G.degree(), columns=[\"nodes\", \"degree\"])"
   ]
  },
  {
   "cell_type": "code",
   "execution_count": 8,
   "id": "9781a7b8",
   "metadata": {},
   "outputs": [
    {
     "data": {
      "text/html": [
       "<div>\n",
       "<style scoped>\n",
       "    .dataframe tbody tr th:only-of-type {\n",
       "        vertical-align: middle;\n",
       "    }\n",
       "\n",
       "    .dataframe tbody tr th {\n",
       "        vertical-align: top;\n",
       "    }\n",
       "\n",
       "    .dataframe thead th {\n",
       "        text-align: right;\n",
       "    }\n",
       "</style>\n",
       "<table border=\"1\" class=\"dataframe\">\n",
       "  <thead>\n",
       "    <tr style=\"text-align: right;\">\n",
       "      <th></th>\n",
       "      <th>nodes</th>\n",
       "      <th>degree</th>\n",
       "    </tr>\n",
       "  </thead>\n",
       "  <tbody>\n",
       "    <tr>\n",
       "      <th>0</th>\n",
       "      <td>pwc:method/densenas-a</td>\n",
       "      <td>3</td>\n",
       "    </tr>\n",
       "    <tr>\n",
       "      <th>1</th>\n",
       "      <td>pwc:method/fast-voxel-query</td>\n",
       "      <td>2</td>\n",
       "    </tr>\n",
       "    <tr>\n",
       "      <th>2</th>\n",
       "      <td>pwc:method/segregated-attention-network</td>\n",
       "      <td>2</td>\n",
       "    </tr>\n",
       "  </tbody>\n",
       "</table>\n",
       "</div>"
      ],
      "text/plain": [
       "                                     nodes  degree\n",
       "0                    pwc:method/densenas-a       3\n",
       "1              pwc:method/fast-voxel-query       2\n",
       "2  pwc:method/segregated-attention-network       2"
      ]
     },
     "execution_count": 8,
     "metadata": {},
     "output_type": "execute_result"
    }
   ],
   "source": [
    "df_degree.head(3)"
   ]
  },
  {
   "cell_type": "code",
   "execution_count": 38,
   "id": "ad2dbf2a",
   "metadata": {},
   "outputs": [
    {
     "data": {
      "text/plain": [
       "8.102345835089197"
      ]
     },
     "execution_count": 38,
     "metadata": {},
     "output_type": "execute_result"
    }
   ],
   "source": [
    "# average degree of the whole graph\n",
    "np.mean(df_degree.degree)"
   ]
  },
  {
   "cell_type": "code",
   "execution_count": 9,
   "id": "9f97dbbb",
   "metadata": {},
   "outputs": [
    {
     "name": "stdout",
     "output_type": "stream",
     "text": [
      "7735\n",
      "nodes     pwc:task/classification\n",
      "degree                      14523\n",
      "Name: 7735, dtype: object\n"
     ]
    }
   ],
   "source": [
    "# \"classification\" has the most edges\n",
    "print(df_degree[\"degree\"].idxmax())\n",
    "print(df_degree.iloc[7735,:])"
   ]
  },
  {
   "cell_type": "code",
   "execution_count": 10,
   "id": "8ce40ede",
   "metadata": {},
   "outputs": [
    {
     "data": {
      "text/plain": [
       "0.9866624525916561"
      ]
     },
     "execution_count": 10,
     "metadata": {},
     "output_type": "execute_result"
    }
   ],
   "source": [
    "# About 98.67% of all nodes have a degree less than the threshold 50\n",
    "threshold = 50\n",
    "lg = df_degree[\"degree\"].value_counts().index < threshold\n",
    "df_degree[\"degree\"].value_counts()[lg].sum() / len(G.nodes)"
   ]
  },
  {
   "cell_type": "code",
   "execution_count": 11,
   "id": "31dacf64",
   "metadata": {},
   "outputs": [
    {
     "data": {
      "text/plain": [
       "<AxesSubplot:title={'center':'kernel density of node degrees in the whole graph'}, xlabel='degree', ylabel='Density'>"
      ]
     },
     "execution_count": 11,
     "metadata": {},
     "output_type": "execute_result"
    },
    {
     "data": {
      "image/png": "[encoded data removed]",
      "text/plain": [
       "<Figure size 1152x576 with 1 Axes>"
      ]
     },
     "metadata": {
      "needs_background": "light"
     },
     "output_type": "display_data"
    }
   ],
   "source": [
    "# kdeplot of degrees\n",
    "plt.figure(figsize=(16, 8))\n",
    "plt.title(\"kernel density of node degrees in the whole graph\")\n",
    "sns.kdeplot(df_degree[\"degree\"], fill=True)"
   ]
  },
  {
   "cell_type": "code",
   "execution_count": 12,
   "id": "40541d19",
   "metadata": {},
   "outputs": [],
   "source": [
    "df_degree_type = df_degree.copy()\n",
    "df_degree_type[\"nodes\"] = df_degree[\"nodes\"].apply(lambda x: x.split(\":\")[1].split(\"/\")[0])"
   ]
  },
  {
   "cell_type": "code",
   "execution_count": 13,
   "id": "27232293",
   "metadata": {
    "scrolled": false
   },
   "outputs": [
    {
     "data": {
      "image/png": "[encoded data removed]",
      "text/plain": [
       "<Figure size 1152x576 with 8 Axes>"
      ]
     },
     "metadata": {
      "needs_background": "light"
     },
     "output_type": "display_data"
    }
   ],
   "source": [
    "# draw histplot of \"degree\" of all types of entities\n",
    "f, ax = plt.subplots(4,2, figsize=(20,30))\n",
    "for i , type_ in enumerate(df_types[0].unique()):\n",
    "    log = df_degree_type[\"nodes\"]==type_\n",
    "    degree_type = df_degree_type[log][\"degree\"]\n",
    "    axis_i = int(i/2)\n",
    "    axis_j = 1 if i%2!=0 else 0\n",
    "    degree_type.reset_index().plot(\n",
    "        kind=\"hist\", \n",
    "        x=\"index\", \n",
    "        y=\"degree\", \n",
    "        bins=10, \n",
    "        ax=ax[axis_i][axis_j], \n",
    "        figsize=(16,8), \n",
    "        title=type_\n",
    "    )"
   ]
  },
  {
   "cell_type": "markdown",
   "id": "146e1d22",
   "metadata": {},
   "source": [
    "- **Analysis on the whole graph level**\n",
    "\n",
    "1. Over 98% of nodes have degree lower than 50\n",
    "2. Based on node types, a small portion of \"task\" has a degree over 1000; for \"paper\" and \"task\", the degrees of almost all entities are below 1000; degrees of \"dataset\" nodes are obviously below 1000; although there is a large amount of \"model\" type of nodes, their degrees are mostly below 3. (\"Area\" and \"Collection\" are ignored)"
   ]
  },
  {
   "cell_type": "markdown",
   "id": "b0a4ffaa",
   "metadata": {},
   "source": [
    "#### 2.2.2 Atom graphs"
   ]
  },
  {
   "cell_type": "code",
   "execution_count": 14,
   "id": "7b06aedf",
   "metadata": {},
   "outputs": [],
   "source": [
    "def generate_atom_graph(file_dir, file_graph, file_pred, directed=True):\n",
    "\n",
    "    file_graph_path = os.path.join(file_dir, file_graph)\n",
    "    file_pred_path = os.path.join(file_dir, file_pred)\n",
    "    with open(file_graph_path, \"r\") as g:\n",
    "        data = json.load(g)\n",
    "    with open(file_pred_path, \"r\") as p:\n",
    "        predicting = json.load(p)\n",
    "    node_pair_to_predict = predicting[\"edge\"]\n",
    "    elements = data.get(\"elements\", {})\n",
    "\n",
    "    nodes = []\n",
    "    pairs = []\n",
    "    for node in elements[\"nodes\"]:\n",
    "        info = node[\"data\"]\n",
    "        nodes.append((info[\"id\"],\n",
    "                      {\"type\": info[\"type\"]}))\n",
    "    for edge in elements[\"edges\"]:\n",
    "        structure = edge[\"data\"]\n",
    "        pairs.append((structure[\"source\"],\n",
    "                      structure[\"target\"],\n",
    "                      {\"type\": structure[\"type\"]}))\n",
    "    if directed:\n",
    "        atom_graph = nx.DiGraph()\n",
    "    else:\n",
    "        atom_graph = nx.Graph()\n",
    "    atom_graph.add_nodes_from(nodes)\n",
    "    atom_graph.add_edges_from(pairs)\n",
    "\n",
    "    node_names = [node.split(\":\")[-1].replace(\"/\", \"_\") for node in node_pair_to_predict]\n",
    "    final_name = node_names[0] + \"-\" + node_names[1]\n",
    "    \n",
    "    return atom_graph, node_pair_to_predict, final_name\n",
    "\n",
    "\n",
    "def prepare_samples(num_per_label):\n",
    "    \n",
    "    file_pairs = []\n",
    "    numbers = [\"0\" + str(i) for i in range(10)] + \\\n",
    "              [str(i) for i in range(10, num_per_label)]\n",
    "    labels = [\"pos\", \"neg\"]\n",
    "\n",
    "    for num in numbers:\n",
    "        for l in labels:\n",
    "            file_graph = \"pair_graph_sample_\" + l + \"_\" + num + \"_graph.json\"\n",
    "            file_pred = \"pair_graph_sample_\" + l + \"_\" + num + \\\n",
    "                        \"_prediction_edge.json\"\n",
    "            file_pairs.append((file_graph, file_pred, l))\n",
    "    return file_pairs"
   ]
  },
  {
   "cell_type": "code",
   "execution_count": 15,
   "id": "19fef65d",
   "metadata": {},
   "outputs": [],
   "source": [
    "# 5000 for each label as a sampled example\n",
    "file_pairs = prepare_samples(5000)"
   ]
  },
  {
   "cell_type": "code",
   "execution_count": 17,
   "id": "9a522df8",
   "metadata": {},
   "outputs": [],
   "source": [
    "df_degrees_avg = pd.DataFrame(columns=[\"nodes\", \"graph\", \"avg_degree_graph\", \"avg_degree_targets\", \"label\"])\n",
    "file_dir = \"/opt/contextgraph/samples_all\"\n",
    "\n",
    "#for i, file_pair in tqdm(enumerate(file_pairs)):\n",
    "#    file_graph = file_pair[0]\n",
    "#    file_pred = file_pair[1]\n",
    "#    label = file_pair[2]\n",
    "#    g, target_nodes, node_pair = generate_atom_graph(file_dir, file_graph, file_pred, directed=True)\n",
    "#    dict_degrees = dict(g.degree())\n",
    "#    df_degrees_avg.loc[i, \"nodes\"] = node_pair\n",
    "#    df_degrees_avg.loc[i, \"graph\"] = file_graph\n",
    "#    df_degrees_avg.loc[i, \"avg_degree_graph\"] = np.mean(list(dict_degrees.values()))\n",
    "#    df_degrees_avg.loc[i, \"avg_degree_targets\"] = (dict_degrees.get(target_nodes[0], 0) \n",
    "#                                                   + dict_degrees.get(target_nodes[1], 0))/2\n",
    "#    df_degrees_avg.loc[i, \"label\"] = label\n",
    "\n",
    "## final dataframe is store in \"/opt/contextgraph\"    \n",
    "#df_degrees_avg.to_csv(\"samples_all_average_degree_per_graph.csv\")"
   ]
  },
  {
   "cell_type": "code",
   "execution_count": 31,
   "id": "df2bb8ec",
   "metadata": {},
   "outputs": [],
   "source": [
    "df_degrees_avg= pd.read_csv(\"/opt/contextgraph/samples_all_average_degree_per_graph.csv\", index_col=0)"
   ]
  },
  {
   "cell_type": "code",
   "execution_count": 32,
   "id": "8dd8d847",
   "metadata": {},
   "outputs": [
    {
     "data": {
      "text/html": [
       "<div>\n",
       "<style scoped>\n",
       "    .dataframe tbody tr th:only-of-type {\n",
       "        vertical-align: middle;\n",
       "    }\n",
       "\n",
       "    .dataframe tbody tr th {\n",
       "        vertical-align: top;\n",
       "    }\n",
       "\n",
       "    .dataframe thead th {\n",
       "        text-align: right;\n",
       "    }\n",
       "</style>\n",
       "<table border=\"1\" class=\"dataframe\">\n",
       "  <thead>\n",
       "    <tr style=\"text-align: right;\">\n",
       "      <th></th>\n",
       "      <th>nodes</th>\n",
       "      <th>graph</th>\n",
       "      <th>avg_degree_graph</th>\n",
       "      <th>avg_degree_targets</th>\n",
       "      <th>label</th>\n",
       "    </tr>\n",
       "  </thead>\n",
       "  <tbody>\n",
       "    <tr>\n",
       "      <th>0</th>\n",
       "      <td>dataset_pathtrack-method_dla</td>\n",
       "      <td>pair_graph_sample_pos_00_graph.json</td>\n",
       "      <td>3.701149</td>\n",
       "      <td>3.5</td>\n",
       "      <td>pos</td>\n",
       "    </tr>\n",
       "    <tr>\n",
       "      <th>1</th>\n",
       "      <td>method_roberta-task_video-visual-relation-dete...</td>\n",
       "      <td>pair_graph_sample_neg_00_graph.json</td>\n",
       "      <td>18.480207</td>\n",
       "      <td>50.5</td>\n",
       "      <td>neg</td>\n",
       "    </tr>\n",
       "  </tbody>\n",
       "</table>\n",
       "</div>"
      ],
      "text/plain": [
       "                                               nodes  \\\n",
       "0                       dataset_pathtrack-method_dla   \n",
       "1  method_roberta-task_video-visual-relation-dete...   \n",
       "\n",
       "                                 graph  avg_degree_graph  avg_degree_targets  \\\n",
       "0  pair_graph_sample_pos_00_graph.json          3.701149                 3.5   \n",
       "1  pair_graph_sample_neg_00_graph.json         18.480207                50.5   \n",
       "\n",
       "  label  \n",
       "0   pos  \n",
       "1   neg  "
      ]
     },
     "execution_count": 32,
     "metadata": {},
     "output_type": "execute_result"
    }
   ],
   "source": [
    "df_degrees_avg.head(2)"
   ]
  },
  {
   "cell_type": "code",
   "execution_count": 20,
   "id": "e507137c",
   "metadata": {},
   "outputs": [
    {
     "data": {
      "text/plain": [
       "<AxesSubplot:xlabel='avg_degree_graph', ylabel='Count'>"
      ]
     },
     "execution_count": 20,
     "metadata": {},
     "output_type": "execute_result"
    },
    {
     "data": {
      "image/png": "[encoded data removed]",
      "text/plain": [
       "<Figure size 432x288 with 1 Axes>"
      ]
     },
     "metadata": {
      "needs_background": "light"
     },
     "output_type": "display_data"
    }
   ],
   "source": [
    "# distribution of average degree of graphs\n",
    "sns.histplot(df_degrees_avg[\"avg_degree_graph\"], kde=True)"
   ]
  },
  {
   "cell_type": "code",
   "execution_count": 21,
   "id": "ce15a281",
   "metadata": {},
   "outputs": [
    {
     "data": {
      "text/plain": [
       "<AxesSubplot:xlabel='avg_degree_targets', ylabel='Density'>"
      ]
     },
     "execution_count": 21,
     "metadata": {},
     "output_type": "execute_result"
    },
    {
     "data": {
      "image/png": "[encoded data removed]",
      "text/plain": [
       "<Figure size 432x288 with 1 Axes>"
      ]
     },
     "metadata": {
      "needs_background": "light"
     },
     "output_type": "display_data"
    }
   ],
   "source": [
    "# distribution of average degree of two target nodes\n",
    "sns.kdeplot(df_degrees_avg[\"avg_degree_targets\"])"
   ]
  },
  {
   "cell_type": "code",
   "execution_count": 22,
   "id": "4bfa0b43",
   "metadata": {
    "scrolled": true
   },
   "outputs": [
    {
     "data": {
      "text/html": [
       "<div>\n",
       "<style scoped>\n",
       "    .dataframe tbody tr th:only-of-type {\n",
       "        vertical-align: middle;\n",
       "    }\n",
       "\n",
       "    .dataframe tbody tr th {\n",
       "        vertical-align: top;\n",
       "    }\n",
       "\n",
       "    .dataframe thead th {\n",
       "        text-align: right;\n",
       "    }\n",
       "</style>\n",
       "<table border=\"1\" class=\"dataframe\">\n",
       "  <thead>\n",
       "    <tr style=\"text-align: right;\">\n",
       "      <th></th>\n",
       "      <th>nodes</th>\n",
       "      <th>graph</th>\n",
       "      <th>avg_degree_graph</th>\n",
       "      <th>avg_degree_targets</th>\n",
       "      <th>label</th>\n",
       "    </tr>\n",
       "  </thead>\n",
       "  <tbody>\n",
       "    <tr>\n",
       "      <th>3927</th>\n",
       "      <td>task_classification-task_virtual-reality</td>\n",
       "      <td>pair_graph_sample_neg_1963_graph.json</td>\n",
       "      <td>13.88584</td>\n",
       "      <td>4389.0</td>\n",
       "      <td>neg</td>\n",
       "    </tr>\n",
       "  </tbody>\n",
       "</table>\n",
       "</div>"
      ],
      "text/plain": [
       "                                         nodes  \\\n",
       "3927  task_classification-task_virtual-reality   \n",
       "\n",
       "                                      graph  avg_degree_graph  \\\n",
       "3927  pair_graph_sample_neg_1963_graph.json          13.88584   \n",
       "\n",
       "      avg_degree_targets label  \n",
       "3927              4389.0   neg  "
      ]
     },
     "execution_count": 22,
     "metadata": {},
     "output_type": "execute_result"
    }
   ],
   "source": [
    "# task/classification makes the average degree extremly high\n",
    "df_degrees_avg[df_degrees_avg[\"avg_degree_targets\"] == df_degrees_avg[\"avg_degree_targets\"].max()]"
   ]
  },
  {
   "cell_type": "code",
   "execution_count": 46,
   "id": "46ec76ee",
   "metadata": {},
   "outputs": [
    {
     "data": {
      "text/plain": [
       "pos    5000\n",
       "neg    5000\n",
       "Name: label, dtype: int64"
      ]
     },
     "execution_count": 46,
     "metadata": {},
     "output_type": "execute_result"
    }
   ],
   "source": [
    "# samples are well balanced due to the nature of generation process\n",
    "df_degrees_avg[\"label\"].value_counts()"
   ]
  },
  {
   "cell_type": "code",
   "execution_count": 44,
   "id": "722355b4",
   "metadata": {},
   "outputs": [
    {
     "data": {
      "text/html": [
       "<div>\n",
       "<style scoped>\n",
       "    .dataframe tbody tr th:only-of-type {\n",
       "        vertical-align: middle;\n",
       "    }\n",
       "\n",
       "    .dataframe tbody tr th {\n",
       "        vertical-align: top;\n",
       "    }\n",
       "\n",
       "    .dataframe thead th {\n",
       "        text-align: right;\n",
       "    }\n",
       "</style>\n",
       "<table border=\"1\" class=\"dataframe\">\n",
       "  <thead>\n",
       "    <tr style=\"text-align: right;\">\n",
       "      <th></th>\n",
       "      <th>avg_degree_graph</th>\n",
       "      <th>avg_degree_targets</th>\n",
       "    </tr>\n",
       "    <tr>\n",
       "      <th>label</th>\n",
       "      <th></th>\n",
       "      <th></th>\n",
       "    </tr>\n",
       "  </thead>\n",
       "  <tbody>\n",
       "    <tr>\n",
       "      <th>neg</th>\n",
       "      <td>7.560554</td>\n",
       "      <td>57.4577</td>\n",
       "    </tr>\n",
       "    <tr>\n",
       "      <th>pos</th>\n",
       "      <td>8.276693</td>\n",
       "      <td>179.4095</td>\n",
       "    </tr>\n",
       "  </tbody>\n",
       "</table>\n",
       "</div>"
      ],
      "text/plain": [
       "       avg_degree_graph  avg_degree_targets\n",
       "label                                      \n",
       "neg            7.560554             57.4577\n",
       "pos            8.276693            179.4095"
      ]
     },
     "execution_count": 44,
     "metadata": {},
     "output_type": "execute_result"
    }
   ],
   "source": [
    "# compare the average value for pos and neg classes\n",
    "df_degrees_avg[[\"avg_degree_graph\", \"avg_degree_targets\", \"label\"]].groupby(\"label\").mean()"
   ]
  },
  {
   "cell_type": "markdown",
   "id": "89b22d41",
   "metadata": {},
   "source": [
    "- Based on the a fraction of all samples that we have:\n",
    "\n",
    "1. An average degree of 5 of graphs seem to be usual, a small portion of samples has relatively higher average degree, but no higher than 25\n",
    "\n",
    "2. Entities like \"Task/Classification\" which has high connnectivity leads to naturally to high average degree of target nodes, but not necessarily to \"pos\". (Why task and task are generated as target nodes?)\n",
    "\n",
    "3. While the average degrees of sample graphs have no big difference across positive and negative classes, the average degree of target nodes is significantly higher for positive samples than negative ones, suggesting that positve samples are indeed more \"well-connected\" (more often combined with other entities)  \n",
    "\n",
    "4. One problem being found during analysis: Sometime the average degree of two target nodes is lower or euqal than 1 (e.g. 0.5), which means that these two are not even connected with each other, or only connected with each other. (Details are illustrated in Notebook \"corrupted graphs\") "
   ]
  },
  {
   "cell_type": "markdown",
   "id": "b29f10ed",
   "metadata": {},
   "source": [
    "----"
   ]
  },
  {
   "cell_type": "markdown",
   "id": "749c4db4",
   "metadata": {},
   "source": [
    "# 3. realistic test dataset (ratio)"
   ]
  },
  {
   "cell_type": "markdown",
   "id": "78811314",
   "metadata": {},
   "source": [
    "- Idea:\n",
    "within all the positive examples that we have, find the all possible combination of entities --> treat all non-positive combinations as negtive\n",
    "- Problem:\n",
    "Too many negative "
   ]
  },
  {
   "cell_type": "code",
   "execution_count": 23,
   "id": "a889c43e",
   "metadata": {},
   "outputs": [],
   "source": [
    "file_pairs = prepare_samples(60000)\n",
    "node_pair_samples = []\n",
    "for file_pair in file_pairs:\n",
    "    file_graph = file_pair[0]\n",
    "    file_pred = file_pair[1]\n",
    "    label = file_pair[2]\n",
    "    file_dir = \"/opt/contextgraph/samples_all\"\n",
    "    file_pred_path = os.path.join(file_dir, file_pred)\n",
    "    with open(file_pred_path, \"r\") as p:\n",
    "        predicting = json.load(p)\n",
    "    node_pair_to_predict = predicting[\"edge\"]\n",
    "    node_pair_to_predict.append(label)\n",
    "    node_pair_samples.append(node_pair_to_predict)\n",
    "    \n",
    "df_samples = pd.DataFrame(node_pair_samples)\n",
    "df_samples_types = pd.DataFrame(columns=[0,1,2])"
   ]
  },
  {
   "cell_type": "code",
   "execution_count": 24,
   "id": "903e5ba5",
   "metadata": {},
   "outputs": [
    {
     "data": {
      "text/html": [
       "<div>\n",
       "<style scoped>\n",
       "    .dataframe tbody tr th:only-of-type {\n",
       "        vertical-align: middle;\n",
       "    }\n",
       "\n",
       "    .dataframe tbody tr th {\n",
       "        vertical-align: top;\n",
       "    }\n",
       "\n",
       "    .dataframe thead th {\n",
       "        text-align: right;\n",
       "    }\n",
       "</style>\n",
       "<table border=\"1\" class=\"dataframe\">\n",
       "  <thead>\n",
       "    <tr style=\"text-align: right;\">\n",
       "      <th></th>\n",
       "      <th>0</th>\n",
       "      <th>1</th>\n",
       "      <th>2</th>\n",
       "    </tr>\n",
       "  </thead>\n",
       "  <tbody>\n",
       "    <tr>\n",
       "      <th>0</th>\n",
       "      <td>pwc:dataset/pathtrack</td>\n",
       "      <td>pwc:method/dla</td>\n",
       "      <td>pos</td>\n",
       "    </tr>\n",
       "    <tr>\n",
       "      <th>1</th>\n",
       "      <td>pwc:method/roberta</td>\n",
       "      <td>pwc:task/video-visual-relation-detection</td>\n",
       "      <td>neg</td>\n",
       "    </tr>\n",
       "  </tbody>\n",
       "</table>\n",
       "</div>"
      ],
      "text/plain": [
       "                       0                                         1    2\n",
       "0  pwc:dataset/pathtrack                            pwc:method/dla  pos\n",
       "1     pwc:method/roberta  pwc:task/video-visual-relation-detection  neg"
      ]
     },
     "execution_count": 24,
     "metadata": {},
     "output_type": "execute_result"
    }
   ],
   "source": [
    "df_samples.head(2)"
   ]
  },
  {
   "cell_type": "code",
   "execution_count": 25,
   "id": "03cfe8cd",
   "metadata": {},
   "outputs": [],
   "source": [
    "get_type = lambda x: x.split(\":\")[1].split(\"/\")[0]\n",
    "# df_samples_types[0] = df_samples[0].apply(get_type)\n",
    "# df_samples_types[1] = df_samples[1].apply(get_type)\n",
    "# df_samples_types[2] = df_samples[2].map({'pos': 1, 'neg': 0})\n",
    "\n",
    "# df_samples_types.head(2)"
   ]
  },
  {
   "cell_type": "code",
   "execution_count": 26,
   "id": "99bccb1f",
   "metadata": {},
   "outputs": [
    {
     "data": {
      "text/plain": [
       "60000"
      ]
     },
     "execution_count": 26,
     "metadata": {},
     "output_type": "execute_result"
    }
   ],
   "source": [
    "log = df_samples[2] == \"pos\"\n",
    "entities_in_pos = set(df_samples[log][0].values + df_samples[log][1].values)\n",
    "len(entities_in_pos)"
   ]
  },
  {
   "cell_type": "code",
   "execution_count": 27,
   "id": "e063fde3",
   "metadata": {},
   "outputs": [
    {
     "data": {
      "text/plain": [
       "method     21358\n",
       "task       15995\n",
       "dataset    15389\n",
       "model       7258\n",
       "dtype: int64"
      ]
     },
     "execution_count": 27,
     "metadata": {},
     "output_type": "execute_result"
    }
   ],
   "source": [
    "types = []\n",
    "for entity in entities_in_pos:\n",
    "    types.append(get_type(entity))\n",
    "\n",
    "num_types = pd.DataFrame(types).value_counts()\n",
    "num_types"
   ]
  },
  {
   "cell_type": "code",
   "execution_count": 28,
   "id": "c62252bc",
   "metadata": {},
   "outputs": [],
   "source": [
    "# all possible permutations according to the types\n",
    "all_com = num_types[0] * (num_types[1]+num_types[2]+num_types[3]) + num_types[1]*(num_types[2]+num_types[3]) + (num_types[2]*num_types[3])"
   ]
  },
  {
   "cell_type": "code",
   "execution_count": 29,
   "id": "750da1dd",
   "metadata": {},
   "outputs": [
    {
     "data": {
      "text/plain": [
       "1299247963"
      ]
     },
     "execution_count": 29,
     "metadata": {},
     "output_type": "execute_result"
    }
   ],
   "source": [
    "all_com"
   ]
  },
  {
   "cell_type": "code",
   "execution_count": 30,
   "id": "f683c497",
   "metadata": {},
   "outputs": [
    {
     "data": {
      "text/plain": [
       "21653.132716666667"
      ]
     },
     "execution_count": 30,
     "metadata": {},
     "output_type": "execute_result"
    }
   ],
   "source": [
    "# theoratical ratio\n",
    "# all possible permutations of entites in positive samples\n",
    "# divided by the number of positive samples\n",
    "# this ratio should become smaller once we create more positive samples (I suppose)\n",
    "(all_com-60000)/60000"
   ]
  },
  {
   "cell_type": "code",
   "execution_count": null,
   "id": "24f902ea",
   "metadata": {},
   "outputs": [],
   "source": []
  }
 ],
 "metadata": {
  "kernelspec": {
   "display_name": "Python 3 (ipykernel)",
   "language": "python",
   "name": "python3"
  },
  "language_info": {
   "codemirror_mode": {
    "name": "ipython",
    "version": 3
   },
   "file_extension": ".py",
   "mimetype": "text/x-python",
   "name": "python",
   "nbconvert_exporter": "python",
   "pygments_lexer": "ipython3",
   "version": "3.7.3"
  }
 },
 "nbformat": 4,
 "nbformat_minor": 5
}
